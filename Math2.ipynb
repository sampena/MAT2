{
  "nbformat": 4,
  "nbformat_minor": 0,
  "metadata": {
    "colab": {
      "name": "Math2.ipynb",
      "version": "0.3.2",
      "provenance": [],
      "toc_visible": true
    },
    "kernelspec": {
      "name": "python3",
      "display_name": "Python 3"
    }
  },
  "cells": [
    {
      "cell_type": "markdown",
      "metadata": {
        "id": "Y78iUMckc3xW",
        "colab_type": "text"
      },
      "source": [
        "# Taller 2  Matematicas avanzadas\n",
        "Cuaderno principal"
      ]
    },
    {
      "cell_type": "markdown",
      "metadata": {
        "id": "vYSiU47EE_Ym",
        "colab_type": "text"
      },
      "source": [
        "# Vinculacion de paquetes/módulos"
      ]
    },
    {
      "cell_type": "code",
      "metadata": {
        "id": "uXtRC976fs5_",
        "colab_type": "code",
        "colab": {}
      },
      "source": [
        "#Importar de Google Drive\n",
        "#from google.colab import drive\n",
        "#drive.mount('/content/drive/My Drive/Colab Notebooks/AdvMath/Taller2/')\n",
        "\n",
        "#Listar contenido del directorio\n",
        "#!ls \"/content/drive/My Drive/\""
      ],
      "execution_count": 0,
      "outputs": []
    },
    {
      "cell_type": "code",
      "metadata": {
        "id": "7e583gbsEbaw",
        "colab_type": "code",
        "colab": {
          "base_uri": "https://localhost:8080/",
          "height": 119
        },
        "outputId": "5d0d4cec-4540-460e-a075-6290f0a9f20a"
      },
      "source": [
        "#GitHub Git Clone MAT2 donde estan los modulos utilizados\n",
        "!git clone https://github.com/sampena/MAT2.git\n",
        "  "
      ],
      "execution_count": 1,
      "outputs": [
        {
          "output_type": "stream",
          "text": [
            "Cloning into 'MAT2'...\n",
            "remote: Enumerating objects: 20, done.\u001b[K\n",
            "remote: Counting objects: 100% (20/20), done.\u001b[K\n",
            "remote: Compressing objects: 100% (17/17), done.\u001b[K\n",
            "remote: Total 20 (delta 5), reused 0 (delta 0), pack-reused 0\u001b[K\n",
            "Unpacking objects: 100% (20/20), done.\n"
          ],
          "name": "stdout"
        }
      ]
    },
    {
      "cell_type": "code",
      "metadata": {
        "id": "nvKc3YjVFjSe",
        "colab_type": "code",
        "colab": {}
      },
      "source": [
        "#Imports\n",
        "import numpy as np\n",
        "import MAT2.gauss as g\n"
      ],
      "execution_count": 0,
      "outputs": []
    },
    {
      "cell_type": "code",
      "metadata": {
        "id": "GxKbxQ8mhWgl",
        "colab_type": "code",
        "outputId": "50d380f1-3334-43b0-8323-fe065607343d",
        "colab": {
          "base_uri": "https://localhost:8080/",
          "height": 442
        }
      },
      "source": [
        "#if __name__ == \"__main__\":\n",
        "    A = np.array([[1.,-1.,1.,-1.],[1.,0.,0.,0.],[1.,1.,1.,1.],[1.,2.,4.,8.]])\n",
        "    b =  np.array([[14.],[4.],[2.],[2.]])\n",
        "    \n",
        "    print (\"A\")\n",
        "    print (A)\n",
        "\n",
        "    print (\"b\")\n",
        "    print (b)\n",
        "    \n",
        "    print(\"Gauss\")\n",
        "    print (g.GaussJordan(A,b))\n",
        "    \n",
        "    print (\"A\")\n",
        "    print (A)\n",
        "\n"
      ],
      "execution_count": 5,
      "outputs": [
        {
          "output_type": "stream",
          "text": [
            "A\n",
            "[[ 1. -1.  1. -1.]\n",
            " [ 1.  0.  0.  0.]\n",
            " [ 1.  1.  1.  1.]\n",
            " [ 1.  2.  4.  8.]]\n",
            "b\n",
            "[[14.]\n",
            " [ 4.]\n",
            " [ 2.]\n",
            " [ 2.]]\n",
            "Gauss\n",
            "[[ 1.         -1.          1.         -1.        ]\n",
            " [ 1.          3.          3.          9.        ]\n",
            " [ 1.          0.66666667 -2.         -4.        ]\n",
            " [ 1.          0.33333333  1.          2.        ]]\n",
            "[[ 14.]\n",
            " [-12.]\n",
            " [ -4.]\n",
            " [ -2.]]\n",
            "[ 4. -5.  4. -1.]\n",
            "A\n",
            "[[ 1.         -1.          1.         -1.        ]\n",
            " [ 1.          3.          3.          9.        ]\n",
            " [ 1.          0.66666667 -2.         -4.        ]\n",
            " [ 1.          0.33333333  1.          2.        ]]\n"
          ],
          "name": "stdout"
        }
      ]
    },
    {
      "cell_type": "markdown",
      "metadata": {
        "id": "ieSGy3YQFCf1",
        "colab_type": "text"
      },
      "source": [
        "Newton Ralson"
      ]
    },
    {
      "cell_type": "code",
      "metadata": {
        "id": "XPdsTtFiFCHO",
        "colab_type": "code",
        "colab": {}
      },
      "source": [
        ""
      ],
      "execution_count": 0,
      "outputs": []
    }
  ]
}